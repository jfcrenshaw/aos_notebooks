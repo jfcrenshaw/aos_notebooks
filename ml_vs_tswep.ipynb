{
 "cells": [
  {
   "cell_type": "code",
   "execution_count": 55,
   "metadata": {},
   "outputs": [],
   "source": [
    "from ml_aos.dataloader import Donuts\n",
    "import pandas as pd\n",
    "import numpy as np"
   ]
  },
  {
   "cell_type": "code",
   "execution_count": 13,
   "metadata": {},
   "outputs": [
    {
     "name": "stdout",
     "output_type": "stream",
     "text": [
      "27161\n"
     ]
    }
   ],
   "source": [
    "# data loader for the test set\n",
    "donuts = Donuts(\"test\", transform=False)\n",
    "print(len(donuts))"
   ]
  },
  {
   "cell_type": "code",
   "execution_count": 120,
   "metadata": {},
   "outputs": [
    {
     "ename": "KeyboardInterrupt",
     "evalue": "",
     "output_type": "error",
     "traceback": [
      "\u001b[0;31m---------------------------------------------------------------------------\u001b[0m",
      "\u001b[0;31mKeyboardInterrupt\u001b[0m                         Traceback (most recent call last)",
      "\u001b[1;32m/phys/users/jfc20/lsst/aos_notebooks/ml_vs_tswep.ipynb Cell 3\u001b[0m in \u001b[0;36m<cell line: 6>\u001b[0;34m()\u001b[0m\n\u001b[1;32m      <a href='vscode-notebook-cell://ssh-remote%2Bepyc/phys/users/jfc20/lsst/aos_notebooks/ml_vs_tswep.ipynb#W4sdnNjb2RlLXJlbW90ZQ%3D%3D?line=4'>5</a>\u001b[0m dofs \u001b[39m=\u001b[39m []\n\u001b[1;32m      <a href='vscode-notebook-cell://ssh-remote%2Bepyc/phys/users/jfc20/lsst/aos_notebooks/ml_vs_tswep.ipynb#W4sdnNjb2RlLXJlbW90ZQ%3D%3D?line=5'>6</a>\u001b[0m \u001b[39mfor\u001b[39;00m i \u001b[39min\u001b[39;00m \u001b[39mrange\u001b[39m(\u001b[39mlen\u001b[39m(donuts)):\n\u001b[1;32m      <a href='vscode-notebook-cell://ssh-remote%2Bepyc/phys/users/jfc20/lsst/aos_notebooks/ml_vs_tswep.ipynb#W4sdnNjb2RlLXJlbW90ZQ%3D%3D?line=6'>7</a>\u001b[0m     \u001b[39m# load the donut data\u001b[39;00m\n\u001b[0;32m----> <a href='vscode-notebook-cell://ssh-remote%2Bepyc/phys/users/jfc20/lsst/aos_notebooks/ml_vs_tswep.ipynb#W4sdnNjb2RlLXJlbW90ZQ%3D%3D?line=7'>8</a>\u001b[0m     data \u001b[39m=\u001b[39m donuts[i]\n\u001b[1;32m     <a href='vscode-notebook-cell://ssh-remote%2Bepyc/phys/users/jfc20/lsst/aos_notebooks/ml_vs_tswep.ipynb#W4sdnNjb2RlLXJlbW90ZQ%3D%3D?line=9'>10</a>\u001b[0m     \u001b[39m# determine which corner we're in\u001b[39;00m\n\u001b[1;32m     <a href='vscode-notebook-cell://ssh-remote%2Bepyc/phys/users/jfc20/lsst/aos_notebooks/ml_vs_tswep.ipynb#W4sdnNjb2RlLXJlbW90ZQ%3D%3D?line=10'>11</a>\u001b[0m     fx, fy \u001b[39m=\u001b[39m data[\u001b[39m\"\u001b[39m\u001b[39mfield_x\u001b[39m\u001b[39m\"\u001b[39m]\u001b[39m.\u001b[39mitem(), data[\u001b[39m\"\u001b[39m\u001b[39mfield_y\u001b[39m\u001b[39m\"\u001b[39m]\u001b[39m.\u001b[39mitem()\n",
      "File \u001b[0;32m/astro/store/epyc/users/jfc20/lsst/aos_notebooks/ml_aos/dataloader.py:167\u001b[0m, in \u001b[0;36mDonuts.__getitem__\u001b[0;34m(self, idx)\u001b[0m\n\u001b[1;32m    158\u001b[0m     img, fx, fy, intra, band \u001b[39m=\u001b[39m transform_inputs(\n\u001b[1;32m    159\u001b[0m         img,\n\u001b[1;32m    160\u001b[0m         fx,\n\u001b[0;32m   (...)\u001b[0m\n\u001b[1;32m    163\u001b[0m         band,\n\u001b[1;32m    164\u001b[0m     )\n\u001b[1;32m    166\u001b[0m \u001b[39m# convert everything to tensors\u001b[39;00m\n\u001b[0;32m--> 167\u001b[0m img \u001b[39m=\u001b[39m torch\u001b[39m.\u001b[39;49mfrom_numpy(img)\u001b[39m.\u001b[39mfloat()\n\u001b[1;32m    168\u001b[0m fx \u001b[39m=\u001b[39m torch\u001b[39m.\u001b[39mFloatTensor([fx])\n\u001b[1;32m    169\u001b[0m fy \u001b[39m=\u001b[39m torch\u001b[39m.\u001b[39mFloatTensor([fy])\n",
      "\u001b[0;31mKeyboardInterrupt\u001b[0m: "
     ]
    }
   ],
   "source": [
    "# loop through the test set and extract metadata, images, and zernikes\n",
    "meta = []\n",
    "images = []\n",
    "zernikes = []\n",
    "dofs = []\n",
    "for i in range(len(donuts)):\n",
    "    # load the donut data\n",
    "    data = donuts[i]\n",
    "\n",
    "    # determine which corner we're in\n",
    "    fx, fy = data[\"field_x\"].item(), data[\"field_y\"].item()\n",
    "    if fx < 0 and fy < 0:\n",
    "        corner = \"R00\"\n",
    "    elif fx < 0 and fy > 0:\n",
    "        corner = \"R40\"\n",
    "    elif fx > 0 and fy > 0:\n",
    "        corner = \"R44\"\n",
    "    else:\n",
    "        corner = \"R04\"\n",
    "\n",
    "    meta.append([\n",
    "        data[\"pntId\"], \n",
    "        data[\"obsId\"], \n",
    "        data[\"objId\"],\n",
    "        fx,\n",
    "        fy,\n",
    "        corner,\n",
    "        bool(data[\"intrafocal\"].item())])\n",
    "    images.append(data[\"image\"].numpy())\n",
    "    zernikes.append(data[\"zernikes\"])\n",
    "    dofs.append(data[\"dof\"])"
   ]
  },
  {
   "cell_type": "code",
   "execution_count": 121,
   "metadata": {},
   "outputs": [],
   "source": [
    "# convert the metadata into a dataframe\n",
    "metaDf = pd.DataFrame(\n",
    "    meta, \n",
    "    columns=[\"pntId\", \"obsId\", \"objId\", \"fx\", \"fy\", \"corner\", \"intra\"],\n",
    ")\n",
    "\n",
    "# loop through every corner for every pointing\n",
    "# and randomly select intra/extra pairs\n",
    "pairs = []\n",
    "for (pntId, corner), group in metaDf.groupby([\"pntId\", \"corner\"]):\n",
    "    intra = group[group[\"intra\"] == True]\n",
    "    extra = group[group[\"intra\"] == False]\n",
    "    idx_pairs = list(zip(intra.index, extra.index))\n",
    "    pairs.extend(idx_pairs)"
   ]
  },
  {
   "cell_type": "code",
   "execution_count": 122,
   "metadata": {},
   "outputs": [
    {
     "name": "stdout",
     "output_type": "stream",
     "text": [
      "      pntId   obsId                objId        fx        fy corner  intra\n",
      "1570  16305  517986  4634052941090988544  0.020728  0.021682    R44   True\n",
      "1286  16305  517986  4634051944658577280  0.020444  0.019865    R44  False \n",
      "\n",
      "      pntId   obsId                objId        fx        fy corner  intra\n",
      "1082  18761  927334  3206082005726452480 -0.021923 -0.021728    R00   True\n",
      "65    18761  927334  3206086262037761024 -0.021598 -0.018981    R00  False \n",
      "\n",
      "      pntId   obsId                objId        fx        fy corner  intra\n",
      "1062  18761  927334  3252337566555130496  0.021507  0.022381    R44   True\n",
      "1050  18761  927334  3252356911087826432  0.020460  0.020176    R44  False \n",
      "\n",
      "      pntId    obsId                objId        fx        fy corner  intra\n",
      "1071  23605  1972276  5268152120147766784 -0.019549 -0.021278    R00   True\n",
      "1678  23605  1972276  5268201288933369344 -0.020573 -0.019363    R00  False \n",
      "\n",
      "     pntId    obsId                objId        fx        fy corner  intra\n",
      "377  24225  1655116  5577207040372421504 -0.022248 -0.021928    R00   True\n",
      "149  24225  1655116  5577205799124230144 -0.020143 -0.020391    R00  False \n",
      "\n"
     ]
    }
   ],
   "source": [
    "# check that everything worked...\n",
    "for pair in pairs[:5]:\n",
    "    print(metaDf.iloc[list(pair)], \"\\n\")"
   ]
  },
  {
   "cell_type": "code",
   "execution_count": null,
   "metadata": {},
   "outputs": [],
   "source": []
  }
 ],
 "metadata": {
  "kernelspec": {
   "display_name": "lsst-donut-sims",
   "language": "python",
   "name": "lsst-donut-sims"
  },
  "language_info": {
   "codemirror_mode": {
    "name": "ipython",
    "version": 3
   },
   "file_extension": ".py",
   "mimetype": "text/x-python",
   "name": "python",
   "nbconvert_exporter": "python",
   "pygments_lexer": "ipython3",
   "version": "3.8.12"
  },
  "orig_nbformat": 4
 },
 "nbformat": 4,
 "nbformat_minor": 2
}
